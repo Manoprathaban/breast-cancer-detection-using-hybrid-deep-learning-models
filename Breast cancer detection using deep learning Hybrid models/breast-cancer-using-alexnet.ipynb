{
 "cells": [
  {
   "cell_type": "code",
   "execution_count": 1,
   "id": "jewish-throat",
   "metadata": {
    "execution": {
     "iopub.execute_input": "2023-11-07T15:49:00.462602Z",
     "iopub.status.busy": "2023-11-07T15:49:00.461731Z",
     "iopub.status.idle": "2023-11-07T15:49:00.467456Z",
     "shell.execute_reply": "2023-11-07T15:49:00.466741Z",
     "shell.execute_reply.started": "2023-11-07T15:34:55.647808Z"
    },
    "papermill": {
     "duration": 0.059525,
     "end_time": "2023-11-07T15:49:00.467612",
     "exception": false,
     "start_time": "2023-11-07T15:49:00.408087",
     "status": "completed"
    },
    "tags": []
   },
   "outputs": [],
   "source": [
    "import pandas as pd\n",
    "import numpy as np\n",
    "import os\n",
    "from glob import glob\n",
    "import random\n",
    "import matplotlib.pylab as plt"
   ]
  },
  {
   "cell_type": "code",
   "execution_count": 2,
   "id": "exact-fraud",
   "metadata": {
    "execution": {
     "iopub.execute_input": "2023-11-07T15:49:00.562756Z",
     "iopub.status.busy": "2023-11-07T15:49:00.562124Z",
     "iopub.status.idle": "2023-11-07T15:49:00.608863Z",
     "shell.execute_reply": "2023-11-07T15:49:00.608059Z",
     "shell.execute_reply.started": "2023-11-07T15:34:55.656352Z"
    },
    "papermill": {
     "duration": 0.094231,
     "end_time": "2023-11-07T15:49:00.609002",
     "exception": false,
     "start_time": "2023-11-07T15:49:00.514771",
     "status": "completed"
    },
    "tags": []
   },
   "outputs": [
    {
     "name": "stdout",
     "output_type": "stream",
     "text": [
      "['../input/breast-histopathology-images/IDC_regular_ps50_idx5/10295', '../input/breast-histopathology-images/IDC_regular_ps50_idx5/10304', '../input/breast-histopathology-images/IDC_regular_ps50_idx5/12868', '../input/breast-histopathology-images/IDC_regular_ps50_idx5/10274', '../input/breast-histopathology-images/IDC_regular_ps50_idx5/12818']\n"
     ]
    }
   ],
   "source": [
    "mypaths=[]\n",
    "for name in glob('../input/breast-histopathology-images/IDC_regular_ps50_idx5/*',recursive=True):\n",
    "    mypaths.append(name)\n",
    "print(mypaths[:5])"
   ]
  },
  {
   "cell_type": "code",
   "execution_count": 3,
   "id": "rotary-simple",
   "metadata": {
    "execution": {
     "iopub.execute_input": "2023-11-07T15:49:00.704132Z",
     "iopub.status.busy": "2023-11-07T15:49:00.703337Z",
     "iopub.status.idle": "2023-11-07T15:49:00.707601Z",
     "shell.execute_reply": "2023-11-07T15:49:00.707059Z",
     "shell.execute_reply.started": "2023-11-07T15:34:55.728691Z"
    },
    "papermill": {
     "duration": 0.054961,
     "end_time": "2023-11-07T15:49:00.707728",
     "exception": false,
     "start_time": "2023-11-07T15:49:00.652767",
     "status": "completed"
    },
    "tags": []
   },
   "outputs": [
    {
     "data": {
      "text/plain": [
       "279"
      ]
     },
     "execution_count": 3,
     "metadata": {},
     "output_type": "execute_result"
    }
   ],
   "source": [
    "len(mypaths)"
   ]
  },
  {
   "cell_type": "code",
   "execution_count": 4,
   "id": "partial-democracy",
   "metadata": {
    "execution": {
     "iopub.execute_input": "2023-11-07T15:49:00.801027Z",
     "iopub.status.busy": "2023-11-07T15:49:00.800320Z",
     "iopub.status.idle": "2023-11-07T15:49:09.135647Z",
     "shell.execute_reply": "2023-11-07T15:49:09.134867Z",
     "shell.execute_reply.started": "2023-11-07T15:34:55.738177Z"
    },
    "papermill": {
     "duration": 8.383411,
     "end_time": "2023-11-07T15:49:09.135831",
     "exception": false,
     "start_time": "2023-11-07T15:49:00.752420",
     "status": "completed"
    },
    "tags": []
   },
   "outputs": [],
   "source": [
    "mp=mypaths[60:90]\n",
    "imagePatches=[]\n",
    "for i in mp:\n",
    "    imagePatches+=glob(i+'/*/*.png', recursive=True)"
   ]
  },
  {
   "cell_type": "code",
   "execution_count": 5,
   "id": "dressed-newcastle",
   "metadata": {
    "execution": {
     "iopub.execute_input": "2023-11-07T15:49:09.263328Z",
     "iopub.status.busy": "2023-11-07T15:49:09.262475Z",
     "iopub.status.idle": "2023-11-07T15:49:09.266759Z",
     "shell.execute_reply": "2023-11-07T15:49:09.267422Z",
     "shell.execute_reply.started": "2023-11-07T15:35:06.713201Z"
    },
    "papermill": {
     "duration": 0.070452,
     "end_time": "2023-11-07T15:49:09.267651",
     "exception": false,
     "start_time": "2023-11-07T15:49:09.197199",
     "status": "completed"
    },
    "tags": []
   },
   "outputs": [
    {
     "name": "stdout",
     "output_type": "stream",
     "text": [
      "total no. of images selected from total images is 27509\n"
     ]
    },
    {
     "data": {
      "text/plain": [
       "['../input/breast-histopathology-images/IDC_regular_ps50_idx5/9320/0/9320_idx5_x3201_y2251_class0.png',\n",
       " '../input/breast-histopathology-images/IDC_regular_ps50_idx5/9320/0/9320_idx5_x2051_y1601_class0.png',\n",
       " '../input/breast-histopathology-images/IDC_regular_ps50_idx5/9320/0/9320_idx5_x2851_y2801_class0.png',\n",
       " '../input/breast-histopathology-images/IDC_regular_ps50_idx5/9320/0/9320_idx5_x1501_y801_class0.png',\n",
       " '../input/breast-histopathology-images/IDC_regular_ps50_idx5/9320/0/9320_idx5_x2151_y1651_class0.png']"
      ]
     },
     "execution_count": 5,
     "metadata": {},
     "output_type": "execute_result"
    }
   ],
   "source": [
    "print('total no. of images selected from total images is '+str(len(imagePatches)))\n",
    "imagePatches[:5]"
   ]
  },
  {
   "cell_type": "code",
   "execution_count": 6,
   "id": "qualified-distinction",
   "metadata": {
    "execution": {
     "iopub.execute_input": "2023-11-07T15:49:09.378198Z",
     "iopub.status.busy": "2023-11-07T15:49:09.377574Z",
     "iopub.status.idle": "2023-11-07T15:49:09.391848Z",
     "shell.execute_reply": "2023-11-07T15:49:09.390941Z",
     "shell.execute_reply.started": "2023-11-07T15:35:06.723383Z"
    },
    "papermill": {
     "duration": 0.066914,
     "end_time": "2023-11-07T15:49:09.392037",
     "exception": false,
     "start_time": "2023-11-07T15:49:09.325123",
     "status": "completed"
    },
    "tags": []
   },
   "outputs": [],
   "source": [
    "class0 = [] # 0 = no cancer\n",
    "class1 = [] # 1 = cancer\n",
    "\n",
    "for filename in imagePatches:\n",
    "    if filename.endswith(\"class0.png\"):\n",
    "         class0.append(filename)\n",
    "    else:\n",
    "        class1.append(filename)"
   ]
  },
  {
   "cell_type": "code",
   "execution_count": 7,
   "id": "boxed-canon",
   "metadata": {
    "execution": {
     "iopub.execute_input": "2023-11-07T15:49:09.508220Z",
     "iopub.status.busy": "2023-11-07T15:49:09.507408Z",
     "iopub.status.idle": "2023-11-07T15:49:09.510483Z",
     "shell.execute_reply": "2023-11-07T15:49:09.511125Z",
     "shell.execute_reply.started": "2023-11-07T15:35:06.743514Z"
    },
    "papermill": {
     "duration": 0.057481,
     "end_time": "2023-11-07T15:49:09.511286",
     "exception": false,
     "start_time": "2023-11-07T15:49:09.453805",
     "status": "completed"
    },
    "tags": []
   },
   "outputs": [
    {
     "name": "stdout",
     "output_type": "stream",
     "text": [
      "Among them, 19163 is clss0 and 8346 is class1\n"
     ]
    }
   ],
   "source": [
    "print('Among them, '+str(len(class0))+' is clss0 and '+str(len(class1))+' is class1')"
   ]
  },
  {
   "cell_type": "code",
   "execution_count": null,
   "id": "historical-mixer",
   "metadata": {
    "papermill": {
     "duration": 0.05059,
     "end_time": "2023-11-07T15:49:09.610947",
     "exception": false,
     "start_time": "2023-11-07T15:49:09.560357",
     "status": "completed"
    },
    "tags": []
   },
   "outputs": [],
   "source": []
  },
  {
   "cell_type": "markdown",
   "id": "informal-melbourne",
   "metadata": {
    "papermill": {
     "duration": 0.044577,
     "end_time": "2023-11-07T15:49:09.706700",
     "exception": false,
     "start_time": "2023-11-07T15:49:09.662123",
     "status": "completed"
    },
    "tags": []
   },
   "source": [
    "**Now Shuffling the images randomly**"
   ]
  },
  {
   "cell_type": "code",
   "execution_count": 8,
   "id": "numeric-wagner",
   "metadata": {
    "execution": {
     "iopub.execute_input": "2023-11-07T15:49:09.830868Z",
     "iopub.status.busy": "2023-11-07T15:49:09.829775Z",
     "iopub.status.idle": "2023-11-07T15:49:09.832995Z",
     "shell.execute_reply": "2023-11-07T15:49:09.832241Z",
     "shell.execute_reply.started": "2023-11-07T15:35:06.756157Z"
    },
    "papermill": {
     "duration": 0.080029,
     "end_time": "2023-11-07T15:49:09.833126",
     "exception": false,
     "start_time": "2023-11-07T15:49:09.753097",
     "status": "completed"
    },
    "tags": []
   },
   "outputs": [],
   "source": [
    "sampled_class0 = random.sample(class0, len(class1))\n",
    "sampled_class1 = random.sample(class1, len(class1))\n",
    "len(sampled_class0)\n",
    "class0=None;\n",
    "class1=None;"
   ]
  },
  {
   "cell_type": "code",
   "execution_count": 9,
   "id": "successful-substance",
   "metadata": {
    "execution": {
     "iopub.execute_input": "2023-11-07T15:49:09.928945Z",
     "iopub.status.busy": "2023-11-07T15:49:09.928144Z",
     "iopub.status.idle": "2023-11-07T15:49:09.931237Z",
     "shell.execute_reply": "2023-11-07T15:49:09.930598Z",
     "shell.execute_reply.started": "2023-11-07T15:35:06.788672Z"
    },
    "papermill": {
     "duration": 0.052649,
     "end_time": "2023-11-07T15:49:09.931354",
     "exception": false,
     "start_time": "2023-11-07T15:49:09.878705",
     "status": "completed"
    },
    "tags": []
   },
   "outputs": [],
   "source": [
    "import gc"
   ]
  },
  {
   "cell_type": "markdown",
   "id": "secondary-tuition",
   "metadata": {
    "papermill": {
     "duration": 0.04474,
     "end_time": "2023-11-07T15:49:10.020247",
     "exception": false,
     "start_time": "2023-11-07T15:49:09.975507",
     "status": "completed"
    },
    "tags": []
   },
   "source": [
    "**Now Reading all images into arrays**"
   ]
  },
  {
   "cell_type": "code",
   "execution_count": 10,
   "id": "intelligent-timber",
   "metadata": {
    "execution": {
     "iopub.execute_input": "2023-11-07T15:49:10.118794Z",
     "iopub.status.busy": "2023-11-07T15:49:10.118061Z",
     "iopub.status.idle": "2023-11-07T15:49:10.279272Z",
     "shell.execute_reply": "2023-11-07T15:49:10.278761Z",
     "shell.execute_reply.started": "2023-11-07T15:35:06.809758Z"
    },
    "papermill": {
     "duration": 0.213328,
     "end_time": "2023-11-07T15:49:10.279429",
     "exception": false,
     "start_time": "2023-11-07T15:49:10.066101",
     "status": "completed"
    },
    "tags": []
   },
   "outputs": [],
   "source": [
    "from matplotlib.image import imread\n",
    "import cv2\n",
    "\n",
    "def get_image_arrays(data, label):\n",
    "    img_arrays = []\n",
    "    for i in data:\n",
    "      if i.endswith('.png'):\n",
    "        img = cv2.imread(i ,cv2.IMREAD_COLOR)\n",
    "        img_sized = cv2.resize(img, (227, 227), interpolation=cv2.INTER_LINEAR)\n",
    "        img_arrays.append([img_sized, label])\n",
    "    return img_arrays"
   ]
  },
  {
   "cell_type": "code",
   "execution_count": 11,
   "id": "simplified-cliff",
   "metadata": {
    "execution": {
     "iopub.execute_input": "2023-11-07T15:49:10.372085Z",
     "iopub.status.busy": "2023-11-07T15:49:10.371475Z",
     "iopub.status.idle": "2023-11-07T15:50:58.802329Z",
     "shell.execute_reply": "2023-11-07T15:50:58.802877Z",
     "shell.execute_reply.started": "2023-11-07T15:35:06.957049Z"
    },
    "papermill": {
     "duration": 108.478859,
     "end_time": "2023-11-07T15:50:58.803055",
     "exception": false,
     "start_time": "2023-11-07T15:49:10.324196",
     "status": "completed"
    },
    "tags": []
   },
   "outputs": [
    {
     "name": "stdout",
     "output_type": "stream",
     "text": [
      "done\n"
     ]
    }
   ],
   "source": [
    "class0_array = get_image_arrays(sampled_class0, 0)\n",
    "class1_array = get_image_arrays(sampled_class1, 1)\n",
    "print('done')"
   ]
  },
  {
   "cell_type": "code",
   "execution_count": 12,
   "id": "cathedral-civilization",
   "metadata": {
    "execution": {
     "iopub.execute_input": "2023-11-07T15:50:58.970100Z",
     "iopub.status.busy": "2023-11-07T15:50:58.969304Z",
     "iopub.status.idle": "2023-11-07T15:50:58.973487Z",
     "shell.execute_reply": "2023-11-07T15:50:58.972802Z",
     "shell.execute_reply.started": "2023-11-07T15:37:05.812117Z"
    },
    "papermill": {
     "duration": 0.124319,
     "end_time": "2023-11-07T15:50:58.973632",
     "exception": false,
     "start_time": "2023-11-07T15:50:58.849313",
     "status": "completed"
    },
    "tags": []
   },
   "outputs": [
    {
     "data": {
      "text/plain": [
       "20"
      ]
     },
     "execution_count": 12,
     "metadata": {},
     "output_type": "execute_result"
    }
   ],
   "source": [
    "gc.collect()"
   ]
  },
  {
   "cell_type": "code",
   "execution_count": 13,
   "id": "controlled-vehicle",
   "metadata": {
    "execution": {
     "iopub.execute_input": "2023-11-07T15:50:59.072840Z",
     "iopub.status.busy": "2023-11-07T15:50:59.072013Z",
     "iopub.status.idle": "2023-11-07T15:50:59.075035Z",
     "shell.execute_reply": "2023-11-07T15:50:59.075581Z",
     "shell.execute_reply.started": "2023-11-07T15:37:05.890998Z"
    },
    "papermill": {
     "duration": 0.055109,
     "end_time": "2023-11-07T15:50:59.075745",
     "exception": false,
     "start_time": "2023-11-07T15:50:59.020636",
     "status": "completed"
    },
    "tags": []
   },
   "outputs": [
    {
     "name": "stdout",
     "output_type": "stream",
     "text": [
      "8346\n",
      "8346\n"
     ]
    }
   ],
   "source": [
    "print(len(class0_array))\n",
    "print(len(class1_array))"
   ]
  },
  {
   "cell_type": "code",
   "execution_count": 14,
   "id": "physical-confidence",
   "metadata": {
    "execution": {
     "iopub.execute_input": "2023-11-07T15:50:59.177549Z",
     "iopub.status.busy": "2023-11-07T15:50:59.176526Z",
     "iopub.status.idle": "2023-11-07T15:50:59.180535Z",
     "shell.execute_reply": "2023-11-07T15:50:59.179973Z",
     "shell.execute_reply.started": "2023-11-07T15:37:05.903593Z"
    },
    "papermill": {
     "duration": 0.054771,
     "end_time": "2023-11-07T15:50:59.180669",
     "exception": false,
     "start_time": "2023-11-07T15:50:59.125898",
     "status": "completed"
    },
    "tags": []
   },
   "outputs": [
    {
     "data": {
      "text/plain": [
       "(227, 227, 3)"
      ]
     },
     "execution_count": 14,
     "metadata": {},
     "output_type": "execute_result"
    }
   ],
   "source": [
    "class0_array[0][0].shape"
   ]
  },
  {
   "cell_type": "code",
   "execution_count": 15,
   "id": "presidential-vienna",
   "metadata": {
    "execution": {
     "iopub.execute_input": "2023-11-07T15:50:59.300114Z",
     "iopub.status.busy": "2023-11-07T15:50:59.299500Z",
     "iopub.status.idle": "2023-11-07T15:50:59.487369Z",
     "shell.execute_reply": "2023-11-07T15:50:59.487865Z",
     "shell.execute_reply.started": "2023-11-07T15:37:05.916140Z"
    },
    "papermill": {
     "duration": 0.261683,
     "end_time": "2023-11-07T15:50:59.488018",
     "exception": false,
     "start_time": "2023-11-07T15:50:59.226335",
     "status": "completed"
    },
    "tags": []
   },
   "outputs": [
    {
     "data": {
      "text/plain": [
       "<matplotlib.image.AxesImage at 0x78a0b3e64310>"
      ]
     },
     "execution_count": 15,
     "metadata": {},
     "output_type": "execute_result"
    },
    {
     "data": {
      "image/png": "[encoded data removed]",
      "text/plain": [
       "<Figure size 432x288 with 1 Axes>"
      ]
     },
     "metadata": {
      "needs_background": "light"
     },
     "output_type": "display_data"
    }
   ],
   "source": [
    "plt.imshow(class1_array[1][0])"
   ]
  },
  {
   "cell_type": "code",
   "execution_count": 16,
   "id": "knowing-efficiency",
   "metadata": {
    "execution": {
     "iopub.execute_input": "2023-11-07T15:50:59.616884Z",
     "iopub.status.busy": "2023-11-07T15:50:59.599551Z",
     "iopub.status.idle": "2023-11-07T15:50:59.621030Z",
     "shell.execute_reply": "2023-11-07T15:50:59.620423Z",
     "shell.execute_reply.started": "2023-11-07T15:37:06.124927Z"
    },
    "papermill": {
     "duration": 0.082323,
     "end_time": "2023-11-07T15:50:59.621163",
     "exception": false,
     "start_time": "2023-11-07T15:50:59.538840",
     "status": "completed"
    },
    "tags": []
   },
   "outputs": [
    {
     "name": "stderr",
     "output_type": "stream",
     "text": [
      "<string>:6: VisibleDeprecationWarning: Creating an ndarray from ragged nested sequences (which is a list-or-tuple of lists-or-tuples-or ndarrays with different lengths or shapes) is deprecated. If you meant to do this, you must specify 'dtype=object' when creating the ndarray\n"
     ]
    }
   ],
   "source": [
    "combined_data = np.concatenate((class0_array, class1_array))\n",
    "#random.seed(41)\n",
    "#random.shuffle(combined_data)\n"
   ]
  },
  {
   "cell_type": "code",
   "execution_count": 17,
   "id": "cognitive-reconstruction",
   "metadata": {
    "execution": {
     "iopub.execute_input": "2023-11-07T15:50:59.727989Z",
     "iopub.status.busy": "2023-11-07T15:50:59.727040Z",
     "iopub.status.idle": "2023-11-07T15:50:59.730839Z",
     "shell.execute_reply": "2023-11-07T15:50:59.730171Z",
     "shell.execute_reply.started": "2023-11-07T15:37:06.154932Z"
    },
    "papermill": {
     "duration": 0.058396,
     "end_time": "2023-11-07T15:50:59.730964",
     "exception": false,
     "start_time": "2023-11-07T15:50:59.672568",
     "status": "completed"
    },
    "tags": []
   },
   "outputs": [
    {
     "data": {
      "text/plain": [
       "(227, 227, 3)"
      ]
     },
     "execution_count": 17,
     "metadata": {},
     "output_type": "execute_result"
    }
   ],
   "source": [
    "combined_data[0][0].shape"
   ]
  },
  {
   "cell_type": "code",
   "execution_count": 18,
   "id": "vietnamese-parking",
   "metadata": {
    "execution": {
     "iopub.execute_input": "2023-11-07T15:50:59.836106Z",
     "iopub.status.busy": "2023-11-07T15:50:59.835250Z",
     "iopub.status.idle": "2023-11-07T15:50:59.839241Z",
     "shell.execute_reply": "2023-11-07T15:50:59.838736Z",
     "shell.execute_reply.started": "2023-11-07T15:37:06.167609Z"
    },
    "papermill": {
     "duration": 0.057351,
     "end_time": "2023-11-07T15:50:59.839361",
     "exception": false,
     "start_time": "2023-11-07T15:50:59.782010",
     "status": "completed"
    },
    "tags": []
   },
   "outputs": [
    {
     "data": {
      "text/plain": [
       "16692"
      ]
     },
     "execution_count": 18,
     "metadata": {},
     "output_type": "execute_result"
    }
   ],
   "source": [
    "len(combined_data)"
   ]
  },
  {
   "cell_type": "markdown",
   "id": "auburn-whale",
   "metadata": {
    "papermill": {
     "duration": 0.051065,
     "end_time": "2023-11-07T15:50:59.940628",
     "exception": false,
     "start_time": "2023-11-07T15:50:59.889563",
     "status": "completed"
    },
    "tags": []
   },
   "source": [
    "**Now splitting the features and labels from the combined data**"
   ]
  },
  {
   "cell_type": "code",
   "execution_count": 19,
   "id": "vietnamese-kinase",
   "metadata": {
    "execution": {
     "iopub.execute_input": "2023-11-07T15:51:00.052047Z",
     "iopub.status.busy": "2023-11-07T15:51:00.046957Z",
     "iopub.status.idle": "2023-11-07T15:51:00.071619Z",
     "shell.execute_reply": "2023-11-07T15:51:00.071004Z",
     "shell.execute_reply.started": "2023-11-07T15:37:06.178086Z"
    },
    "papermill": {
     "duration": 0.081178,
     "end_time": "2023-11-07T15:51:00.071741",
     "exception": false,
     "start_time": "2023-11-07T15:50:59.990563",
     "status": "completed"
    },
    "tags": []
   },
   "outputs": [],
   "source": [
    "X = []\n",
    "y = []\n",
    "\n",
    "for features,label in combined_data:\n",
    "    X.append(features)\n",
    "    y.append(label)\n"
   ]
  },
  {
   "cell_type": "code",
   "execution_count": 20,
   "id": "featured-magnet",
   "metadata": {
    "execution": {
     "iopub.execute_input": "2023-11-07T15:51:00.177324Z",
     "iopub.status.busy": "2023-11-07T15:51:00.176680Z",
     "iopub.status.idle": "2023-11-07T15:51:00.180303Z",
     "shell.execute_reply": "2023-11-07T15:51:00.179734Z",
     "shell.execute_reply.started": "2023-11-07T15:37:06.213673Z"
    },
    "papermill": {
     "duration": 0.058075,
     "end_time": "2023-11-07T15:51:00.180447",
     "exception": false,
     "start_time": "2023-11-07T15:51:00.122372",
     "status": "completed"
    },
    "tags": []
   },
   "outputs": [
    {
     "name": "stdout",
     "output_type": "stream",
     "text": [
      "16692\n",
      "16692\n"
     ]
    }
   ],
   "source": [
    "print(len(X))\n",
    "print(len(y))"
   ]
  },
  {
   "cell_type": "code",
   "execution_count": 21,
   "id": "attached-inspector",
   "metadata": {
    "execution": {
     "iopub.execute_input": "2023-11-07T15:51:00.285432Z",
     "iopub.status.busy": "2023-11-07T15:51:00.284830Z",
     "iopub.status.idle": "2023-11-07T15:51:01.049269Z",
     "shell.execute_reply": "2023-11-07T15:51:01.048659Z",
     "shell.execute_reply.started": "2023-11-07T15:37:06.219353Z"
    },
    "papermill": {
     "duration": 0.818757,
     "end_time": "2023-11-07T15:51:01.049441",
     "exception": false,
     "start_time": "2023-11-07T15:51:00.230684",
     "status": "completed"
    },
    "tags": []
   },
   "outputs": [],
   "source": [
    "X = np.array(X).reshape(-1, 227, 227, 3)"
   ]
  },
  {
   "cell_type": "code",
   "execution_count": 22,
   "id": "dedicated-ladder",
   "metadata": {
    "execution": {
     "iopub.execute_input": "2023-11-07T15:51:01.156478Z",
     "iopub.status.busy": "2023-11-07T15:51:01.155797Z",
     "iopub.status.idle": "2023-11-07T15:51:09.147598Z",
     "shell.execute_reply": "2023-11-07T15:51:09.146900Z",
     "shell.execute_reply.started": "2023-11-07T15:37:07.005522Z"
    },
    "papermill": {
     "duration": 8.046715,
     "end_time": "2023-11-07T15:51:09.147741",
     "exception": false,
     "start_time": "2023-11-07T15:51:01.101026",
     "status": "completed"
    },
    "tags": []
   },
   "outputs": [
    {
     "name": "stdout",
     "output_type": "stream",
     "text": [
      "(12519, 227, 227, 3) (4173, 227, 227, 3) (12519, 2) (4173, 2)\n"
     ]
    }
   ],
   "source": [
    "from sklearn.model_selection import train_test_split\n",
    "from keras.utils.np_utils import to_categorical\n",
    "\n",
    "X_train, X_test, y_train, y_test = train_test_split(X, y, test_size=0.25, random_state=50)\n",
    "y_train = to_categorical(y_train)\n",
    "y_test = to_categorical(y_test)\n",
    "print(X_train.shape, X_test.shape, y_train.shape, y_test.shape)"
   ]
  },
  {
   "cell_type": "code",
   "execution_count": 23,
   "id": "interested-membership",
   "metadata": {
    "execution": {
     "iopub.execute_input": "2023-11-07T15:51:09.400490Z",
     "iopub.status.busy": "2023-11-07T15:51:09.399766Z",
     "iopub.status.idle": "2023-11-07T15:51:09.404691Z",
     "shell.execute_reply": "2023-11-07T15:51:09.403989Z",
     "shell.execute_reply.started": "2023-11-07T15:37:14.525609Z"
    },
    "papermill": {
     "duration": 0.205933,
     "end_time": "2023-11-07T15:51:09.404843",
     "exception": false,
     "start_time": "2023-11-07T15:51:09.198910",
     "status": "completed"
    },
    "tags": []
   },
   "outputs": [
    {
     "data": {
      "text/plain": [
       "20"
      ]
     },
     "execution_count": 23,
     "metadata": {},
     "output_type": "execute_result"
    }
   ],
   "source": [
    "class0_array=None\n",
    "class1_array=None\n",
    "combined_data=None\n",
    "y=None\n",
    "X=None\n",
    "gc.collect()"
   ]
  },
  {
   "cell_type": "code",
   "execution_count": 24,
   "id": "patent-committee",
   "metadata": {
    "execution": {
     "iopub.execute_input": "2023-11-07T15:51:09.522362Z",
     "iopub.status.busy": "2023-11-07T15:51:09.521688Z",
     "iopub.status.idle": "2023-11-07T15:51:09.524800Z",
     "shell.execute_reply": "2023-11-07T15:51:09.524104Z",
     "shell.execute_reply.started": "2023-11-07T15:37:14.686311Z"
    },
    "papermill": {
     "duration": 0.064443,
     "end_time": "2023-11-07T15:51:09.524939",
     "exception": false,
     "start_time": "2023-11-07T15:51:09.460496",
     "status": "completed"
    },
    "tags": []
   },
   "outputs": [],
   "source": [
    "#X_train=X_train/255\n",
    "#X_test=X_test/255"
   ]
  },
  {
   "cell_type": "code",
   "execution_count": 25,
   "id": "blocked-sugar",
   "metadata": {
    "execution": {
     "iopub.execute_input": "2023-11-07T15:51:09.644223Z",
     "iopub.status.busy": "2023-11-07T15:51:09.643548Z",
     "iopub.status.idle": "2023-11-07T15:51:09.646271Z",
     "shell.execute_reply": "2023-11-07T15:51:09.646826Z",
     "shell.execute_reply.started": "2023-11-07T15:37:14.695588Z"
    },
    "papermill": {
     "duration": 0.064917,
     "end_time": "2023-11-07T15:51:09.646992",
     "exception": false,
     "start_time": "2023-11-07T15:51:09.582075",
     "status": "completed"
    },
    "tags": []
   },
   "outputs": [],
   "source": [
    "import tensorflow as tf\n",
    "from tensorflow import keras"
   ]
  },
  {
   "cell_type": "code",
   "execution_count": 26,
   "id": "revised-schema",
   "metadata": {
    "execution": {
     "iopub.execute_input": "2023-11-07T15:51:09.774138Z",
     "iopub.status.busy": "2023-11-07T15:51:09.773460Z",
     "iopub.status.idle": "2023-11-07T15:51:13.668286Z",
     "shell.execute_reply": "2023-11-07T15:51:13.667722Z",
     "shell.execute_reply.started": "2023-11-07T15:37:14.705514Z"
    },
    "papermill": {
     "duration": 3.964609,
     "end_time": "2023-11-07T15:51:13.668450",
     "exception": false,
     "start_time": "2023-11-07T15:51:09.703841",
     "status": "completed"
    },
    "tags": []
   },
   "outputs": [],
   "source": [
    "model = keras.models.Sequential([\n",
    "    keras.layers.Conv2D(filters=96, kernel_size=(11,11), strides=(4,4), activation='relu', input_shape=(227,227,3)),\n",
    "    keras.layers.BatchNormalization(),\n",
    "    keras.layers.MaxPool2D(pool_size=(3,3), strides=(2,2)),\n",
    "    keras.layers.Conv2D(filters=256, kernel_size=(5,5), strides=(1,1), activation='relu', padding=\"same\"),\n",
    "    keras.layers.BatchNormalization(),\n",
    "    keras.layers.MaxPool2D(pool_size=(3,3), strides=(2,2)),\n",
    "    keras.layers.Conv2D(filters=384, kernel_size=(3,3), strides=(1,1), activation='relu', padding=\"same\"),\n",
    "    keras.layers.BatchNormalization(),\n",
    "    keras.layers.Conv2D(filters=384, kernel_size=(1,1), strides=(1,1), activation='relu', padding=\"same\"),\n",
    "    keras.layers.BatchNormalization(),\n",
    "    keras.layers.Conv2D(filters=256, kernel_size=(1,1), strides=(1,1), activation='relu', padding=\"same\"),\n",
    "    keras.layers.BatchNormalization(),\n",
    "    keras.layers.MaxPool2D(pool_size=(3,3), strides=(2,2)),\n",
    "    keras.layers.Flatten(),\n",
    "    keras.layers.Dense(9216,input_shape=(12544,), activation='relu'),\n",
    "    keras.layers.Dense(4096, activation='relu'),\n",
    "    keras.layers.Dropout(0.5),\n",
    "    keras.layers.Dense(4096, activation='relu'),\n",
    "    keras.layers.Dropout(0.5),\n",
    "    keras.layers.Dense(2, activation='sigmoid')\n",
    "])"
   ]
  },
  {
   "cell_type": "code",
   "execution_count": 27,
   "id": "guilty-float",
   "metadata": {
    "execution": {
     "iopub.execute_input": "2023-11-07T15:51:13.780878Z",
     "iopub.status.busy": "2023-11-07T15:51:13.780095Z",
     "iopub.status.idle": "2023-11-07T15:51:13.787016Z",
     "shell.execute_reply": "2023-11-07T15:51:13.786374Z",
     "shell.execute_reply.started": "2023-11-07T15:37:18.399606Z"
    },
    "papermill": {
     "duration": 0.065951,
     "end_time": "2023-11-07T15:51:13.787138",
     "exception": false,
     "start_time": "2023-11-07T15:51:13.721187",
     "status": "completed"
    },
    "tags": []
   },
   "outputs": [
    {
     "name": "stdout",
     "output_type": "stream",
     "text": [
      "Model: \"sequential\"\n",
      "_________________________________________________________________\n",
      "Layer (type)                 Output Shape              Param #   \n",
      "=================================================================\n",
      "conv2d (Conv2D)              (None, 55, 55, 96)        34944     \n",
      "_________________________________________________________________\n",
      "batch_normalization (BatchNo (None, 55, 55, 96)        384       \n",
      "_________________________________________________________________\n",
      "max_pooling2d (MaxPooling2D) (None, 27, 27, 96)        0         \n",
      "_________________________________________________________________\n",
      "conv2d_1 (Conv2D)            (None, 27, 27, 256)       614656    \n",
      "_________________________________________________________________\n",
      "batch_normalization_1 (Batch (None, 27, 27, 256)       1024      \n",
      "_________________________________________________________________\n",
      "max_pooling2d_1 (MaxPooling2 (None, 13, 13, 256)       0         \n",
      "_________________________________________________________________\n",
      "conv2d_2 (Conv2D)            (None, 13, 13, 384)       885120    \n",
      "_________________________________________________________________\n",
      "batch_normalization_2 (Batch (None, 13, 13, 384)       1536      \n",
      "_________________________________________________________________\n",
      "conv2d_3 (Conv2D)            (None, 13, 13, 384)       147840    \n",
      "_________________________________________________________________\n",
      "batch_normalization_3 (Batch (None, 13, 13, 384)       1536      \n",
      "_________________________________________________________________\n",
      "conv2d_4 (Conv2D)            (None, 13, 13, 256)       98560     \n",
      "_________________________________________________________________\n",
      "batch_normalization_4 (Batch (None, 13, 13, 256)       1024      \n",
      "_________________________________________________________________\n",
      "max_pooling2d_2 (MaxPooling2 (None, 6, 6, 256)         0         \n",
      "_________________________________________________________________\n",
      "flatten (Flatten)            (None, 9216)              0         \n",
      "_________________________________________________________________\n",
      "dense (Dense)                (None, 9216)              84943872  \n",
      "_________________________________________________________________\n",
      "dense_1 (Dense)              (None, 4096)              37752832  \n",
      "_________________________________________________________________\n",
      "dropout (Dropout)            (None, 4096)              0         \n",
      "_________________________________________________________________\n",
      "dense_2 (Dense)              (None, 4096)              16781312  \n",
      "_________________________________________________________________\n",
      "dropout_1 (Dropout)          (None, 4096)              0         \n",
      "_________________________________________________________________\n",
      "dense_3 (Dense)              (None, 2)                 8194      \n",
      "=================================================================\n",
      "Total params: 141,272,834\n",
      "Trainable params: 141,270,082\n",
      "Non-trainable params: 2,752\n",
      "_________________________________________________________________\n"
     ]
    }
   ],
   "source": [
    "model.summary()"
   ]
  },
  {
   "cell_type": "code",
   "execution_count": 28,
   "id": "artistic-jason",
   "metadata": {
    "execution": {
     "iopub.execute_input": "2023-11-07T15:51:13.896124Z",
     "iopub.status.busy": "2023-11-07T15:51:13.895297Z",
     "iopub.status.idle": "2023-11-07T15:51:13.908201Z",
     "shell.execute_reply": "2023-11-07T15:51:13.907708Z",
     "shell.execute_reply.started": "2023-11-07T15:37:18.411392Z"
    },
    "papermill": {
     "duration": 0.06997,
     "end_time": "2023-11-07T15:51:13.908328",
     "exception": false,
     "start_time": "2023-11-07T15:51:13.838358",
     "status": "completed"
    },
    "tags": []
   },
   "outputs": [],
   "source": [
    "model.compile(\n",
    "    optimizer=tf.optimizers.Adam(lr=0.000001),\n",
    "    loss='binary_crossentropy',\n",
    "    metrics=['accuracy','Recall']\n",
    ")"
   ]
  },
  {
   "cell_type": "code",
   "execution_count": 29,
   "id": "hawaiian-leather",
   "metadata": {
    "execution": {
     "iopub.execute_input": "2023-11-07T15:51:14.018730Z",
     "iopub.status.busy": "2023-11-07T15:51:14.017981Z",
     "iopub.status.idle": "2023-11-07T15:51:14.021962Z",
     "shell.execute_reply": "2023-11-07T15:51:14.021482Z",
     "shell.execute_reply.started": "2023-11-07T15:37:18.436642Z"
    },
    "papermill": {
     "duration": 0.061492,
     "end_time": "2023-11-07T15:51:14.022098",
     "exception": false,
     "start_time": "2023-11-07T15:51:13.960606",
     "status": "completed"
    },
    "tags": []
   },
   "outputs": [
    {
     "data": {
      "text/plain": [
       "(12519, 227, 227, 3)"
      ]
     },
     "execution_count": 29,
     "metadata": {},
     "output_type": "execute_result"
    }
   ],
   "source": [
    "X_train.shape"
   ]
  },
  {
   "cell_type": "code",
   "execution_count": 30,
   "id": "international-alfred",
   "metadata": {
    "execution": {
     "iopub.execute_input": "2023-11-07T15:51:14.136672Z",
     "iopub.status.busy": "2023-11-07T15:51:14.135970Z",
     "iopub.status.idle": "2023-11-07T15:55:23.960981Z",
     "shell.execute_reply": "2023-11-07T15:55:23.961479Z",
     "shell.execute_reply.started": "2023-11-07T15:37:18.444708Z"
    },
    "papermill": {
     "duration": 249.88456,
     "end_time": "2023-11-07T15:55:23.961650",
     "exception": false,
     "start_time": "2023-11-07T15:51:14.077090",
     "status": "completed"
    },
    "tags": []
   },
   "outputs": [
    {
     "name": "stdout",
     "output_type": "stream",
     "text": [
      "Epoch 1/10\n",
      "392/392 [==============================] - 31s 63ms/step - loss: 0.8059 - accuracy: 0.6445 - recall: 0.6045 - val_loss: 0.4524 - val_accuracy: 0.8049 - val_recall: 0.8406\n",
      "Epoch 2/10\n",
      "392/392 [==============================] - 24s 61ms/step - loss: 0.5604 - accuracy: 0.7882 - recall: 0.7736 - val_loss: 0.4172 - val_accuracy: 0.8215 - val_recall: 0.8495\n",
      "Epoch 3/10\n",
      "392/392 [==============================] - 24s 62ms/step - loss: 0.5195 - accuracy: 0.7976 - recall: 0.7794 - val_loss: 0.4151 - val_accuracy: 0.8251 - val_recall: 0.8500\n",
      "Epoch 4/10\n",
      "392/392 [==============================] - 24s 61ms/step - loss: 0.4761 - accuracy: 0.8177 - recall: 0.8049 - val_loss: 0.3906 - val_accuracy: 0.8294 - val_recall: 0.8502\n",
      "Epoch 5/10\n",
      "392/392 [==============================] - 24s 61ms/step - loss: 0.4516 - accuracy: 0.8212 - recall: 0.8081 - val_loss: 0.3917 - val_accuracy: 0.8313 - val_recall: 0.8505\n",
      "Epoch 6/10\n",
      "392/392 [==============================] - 24s 61ms/step - loss: 0.4422 - accuracy: 0.8261 - recall: 0.8157 - val_loss: 0.3771 - val_accuracy: 0.8418 - val_recall: 0.8581\n",
      "Epoch 7/10\n",
      "392/392 [==============================] - 24s 61ms/step - loss: 0.4180 - accuracy: 0.8329 - recall: 0.8249 - val_loss: 0.3915 - val_accuracy: 0.8385 - val_recall: 0.8581\n",
      "Epoch 8/10\n",
      "392/392 [==============================] - 24s 61ms/step - loss: 0.4113 - accuracy: 0.8369 - recall: 0.8252 - val_loss: 0.3674 - val_accuracy: 0.8466 - val_recall: 0.8613\n",
      "Epoch 9/10\n",
      "392/392 [==============================] - 24s 61ms/step - loss: 0.4024 - accuracy: 0.8370 - recall: 0.8245 - val_loss: 0.3617 - val_accuracy: 0.8495 - val_recall: 0.8629\n",
      "Epoch 10/10\n",
      "392/392 [==============================] - 24s 61ms/step - loss: 0.3931 - accuracy: 0.8449 - recall: 0.8329 - val_loss: 0.3650 - val_accuracy: 0.8497 - val_recall: 0.8591\n"
     ]
    }
   ],
   "source": [
    "history=model.fit(X_train,y_train, validation_data=(X_test, y_test),epochs=10)"
   ]
  },
  {
   "cell_type": "code",
   "execution_count": 31,
   "id": "disturbed-mason",
   "metadata": {
    "execution": {
     "iopub.execute_input": "2023-11-07T15:55:26.701923Z",
     "iopub.status.busy": "2023-11-07T15:55:26.701245Z",
     "iopub.status.idle": "2023-11-07T15:55:29.037107Z",
     "shell.execute_reply": "2023-11-07T15:55:29.036510Z",
     "shell.execute_reply.started": "2023-11-07T15:41:25.444736Z"
    },
    "papermill": {
     "duration": 3.676606,
     "end_time": "2023-11-07T15:55:29.037236",
     "exception": false,
     "start_time": "2023-11-07T15:55:25.360630",
     "status": "completed"
    },
    "tags": []
   },
   "outputs": [
    {
     "name": "stdout",
     "output_type": "stream",
     "text": [
      "131/131 [==============================] - 2s 14ms/step - loss: 0.3650 - accuracy: 0.8497 - recall: 0.8591\n"
     ]
    }
   ],
   "source": [
    "e=model.evaluate(X_test,y_test)"
   ]
  },
  {
   "cell_type": "code",
   "execution_count": 32,
   "id": "antique-school",
   "metadata": {
    "execution": {
     "iopub.execute_input": "2023-11-07T15:55:31.768044Z",
     "iopub.status.busy": "2023-11-07T15:55:31.767454Z",
     "iopub.status.idle": "2023-11-07T15:55:31.770514Z",
     "shell.execute_reply": "2023-11-07T15:55:31.769911Z",
     "shell.execute_reply.started": "2023-11-07T15:41:27.768372Z"
    },
    "papermill": {
     "duration": 1.397663,
     "end_time": "2023-11-07T15:55:31.770638",
     "exception": false,
     "start_time": "2023-11-07T15:55:30.372975",
     "status": "completed"
    },
    "tags": []
   },
   "outputs": [],
   "source": [
    "import matplotlib.pyplot as plt"
   ]
  },
  {
   "cell_type": "code",
   "execution_count": 33,
   "id": "fallen-inquiry",
   "metadata": {
    "execution": {
     "iopub.execute_input": "2023-11-07T15:55:34.482266Z",
     "iopub.status.busy": "2023-11-07T15:55:34.477298Z",
     "iopub.status.idle": "2023-11-07T15:55:34.654586Z",
     "shell.execute_reply": "2023-11-07T15:55:34.653933Z",
     "shell.execute_reply.started": "2023-11-07T15:41:27.774238Z"
    },
    "papermill": {
     "duration": 1.548064,
     "end_time": "2023-11-07T15:55:34.654724",
     "exception": false,
     "start_time": "2023-11-07T15:55:33.106660",
     "status": "completed"
    },
    "tags": []
   },
   "outputs": [
    {
     "data": {
      "image/png": "[encoded data removed]",
      "text/plain": [
       "<Figure size 432x288 with 1 Axes>"
      ]
     },
     "metadata": {
      "needs_background": "light"
     },
     "output_type": "display_data"
    }
   ],
   "source": [
    "#plotting the Accuracy of test and training sets\n",
    "plt.plot(history.history['accuracy'])\n",
    "plt.plot(history.history['val_accuracy'])\n",
    "plt.title('Model Accuracy')\n",
    "plt.ylabel('accuracy')\n",
    "plt.xlabel('epoch')\n",
    "plt.legend(['train', 'test'], loc='upper left')\n",
    "plt.show()"
   ]
  },
  {
   "cell_type": "code",
   "execution_count": 34,
   "id": "passing-venture",
   "metadata": {
    "execution": {
     "iopub.execute_input": "2023-11-07T15:55:37.399904Z",
     "iopub.status.busy": "2023-11-07T15:55:37.394379Z",
     "iopub.status.idle": "2023-11-07T15:55:37.544867Z",
     "shell.execute_reply": "2023-11-07T15:55:37.545382Z",
     "shell.execute_reply.started": "2023-11-07T15:41:27.982679Z"
    },
    "papermill": {
     "duration": 1.532124,
     "end_time": "2023-11-07T15:55:37.545571",
     "exception": false,
     "start_time": "2023-11-07T15:55:36.013447",
     "status": "completed"
    },
    "tags": []
   },
   "outputs": [
    {
     "data": {
      "image/png": "[encoded data removed]",
      "text/plain": [
       "<Figure size 432x288 with 1 Axes>"
      ]
     },
     "metadata": {
      "needs_background": "light"
     },
     "output_type": "display_data"
    }
   ],
   "source": [
    "#plotting the loss of test and training sets\n",
    "plt.plot(history.history['loss'])\n",
    "plt.plot(history.history['val_loss'])\n",
    "plt.title('Model Loss')\n",
    "plt.ylabel('loss')\n",
    "plt.xlabel('epoch')\n",
    "plt.legend(['train', 'test'], loc='upper left')\n",
    "plt.show()"
   ]
  },
  {
   "cell_type": "code",
   "execution_count": 35,
   "id": "viral-surfing",
   "metadata": {
    "execution": {
     "iopub.execute_input": "2023-11-07T15:55:40.283365Z",
     "iopub.status.busy": "2023-11-07T15:55:40.282706Z",
     "iopub.status.idle": "2023-11-07T15:55:43.314812Z",
     "shell.execute_reply": "2023-11-07T15:55:43.314105Z",
     "shell.execute_reply.started": "2023-11-07T15:41:28.146568Z"
    },
    "papermill": {
     "duration": 4.416857,
     "end_time": "2023-11-07T15:55:43.314950",
     "exception": false,
     "start_time": "2023-11-07T15:55:38.898093",
     "status": "completed"
    },
    "tags": []
   },
   "outputs": [],
   "source": [
    "model.save('alexnet.h5')"
   ]
  },
  {
   "cell_type": "code",
   "execution_count": 36,
   "id": "transsexual-overview",
   "metadata": {
    "execution": {
     "iopub.execute_input": "2023-11-07T15:55:46.113691Z",
     "iopub.status.busy": "2023-11-07T15:55:46.113034Z",
     "iopub.status.idle": "2023-11-07T15:55:48.347879Z",
     "shell.execute_reply": "2023-11-07T15:55:48.347264Z",
     "shell.execute_reply.started": "2023-11-07T15:41:31.297168Z"
    },
    "papermill": {
     "duration": 3.619969,
     "end_time": "2023-11-07T15:55:48.348029",
     "exception": false,
     "start_time": "2023-11-07T15:55:44.728060",
     "status": "completed"
    },
    "tags": []
   },
   "outputs": [],
   "source": [
    "y_pred=model.predict(X_test)"
   ]
  },
  {
   "cell_type": "code",
   "execution_count": 37,
   "id": "environmental-graduate",
   "metadata": {
    "execution": {
     "iopub.execute_input": "2023-11-07T15:55:51.177838Z",
     "iopub.status.busy": "2023-11-07T15:55:51.176671Z",
     "iopub.status.idle": "2023-11-07T15:55:51.180445Z",
     "shell.execute_reply": "2023-11-07T15:55:51.181043Z",
     "shell.execute_reply.started": "2023-11-07T15:41:33.565288Z"
    },
    "papermill": {
     "duration": 1.46358,
     "end_time": "2023-11-07T15:55:51.181230",
     "exception": false,
     "start_time": "2023-11-07T15:55:49.717650",
     "status": "completed"
    },
    "tags": []
   },
   "outputs": [
    {
     "data": {
      "text/plain": [
       "array([0.8937264 , 0.16500941], dtype=float32)"
      ]
     },
     "execution_count": 37,
     "metadata": {},
     "output_type": "execute_result"
    }
   ],
   "source": [
    "y_pred[21]"
   ]
  },
  {
   "cell_type": "code",
   "execution_count": 38,
   "id": "textile-initial",
   "metadata": {
    "execution": {
     "iopub.execute_input": "2023-11-07T15:55:53.944828Z",
     "iopub.status.busy": "2023-11-07T15:55:53.943948Z",
     "iopub.status.idle": "2023-11-07T15:55:53.946973Z",
     "shell.execute_reply": "2023-11-07T15:55:53.947456Z",
     "shell.execute_reply.started": "2023-11-07T15:41:33.572888Z"
    },
    "papermill": {
     "duration": 1.384984,
     "end_time": "2023-11-07T15:55:53.947609",
     "exception": false,
     "start_time": "2023-11-07T15:55:52.562625",
     "status": "completed"
    },
    "tags": []
   },
   "outputs": [
    {
     "data": {
      "text/plain": [
       "array([1., 0.], dtype=float32)"
      ]
     },
     "execution_count": 38,
     "metadata": {},
     "output_type": "execute_result"
    }
   ],
   "source": [
    "y_test[21]"
   ]
  },
  {
   "cell_type": "markdown",
   "id": "detailed-logan",
   "metadata": {
    "papermill": {
     "duration": 1.417236,
     "end_time": "2023-11-07T15:55:56.735624",
     "exception": false,
     "start_time": "2023-11-07T15:55:55.318388",
     "status": "completed"
    },
    "tags": []
   },
   "source": [
    "0 means 1,0\n",
    "1 means 0,1"
   ]
  },
  {
   "cell_type": "code",
   "execution_count": 39,
   "id": "norwegian-combining",
   "metadata": {
    "execution": {
     "iopub.execute_input": "2023-11-07T15:55:59.442183Z",
     "iopub.status.busy": "2023-11-07T15:55:59.441213Z",
     "iopub.status.idle": "2023-11-07T15:55:59.443708Z",
     "shell.execute_reply": "2023-11-07T15:55:59.444141Z",
     "shell.execute_reply.started": "2023-11-07T15:41:33.584395Z"
    },
    "papermill": {
     "duration": 1.360939,
     "end_time": "2023-11-07T15:55:59.444313",
     "exception": false,
     "start_time": "2023-11-07T15:55:58.083374",
     "status": "completed"
    },
    "tags": []
   },
   "outputs": [],
   "source": [
    "Y_pred=[]\n",
    "for i in y_pred:\n",
    "    if i[0]>i[1]:\n",
    "        Y_pred.append(0)\n",
    "    else:\n",
    "        Y_pred.append(1)"
   ]
  },
  {
   "cell_type": "code",
   "execution_count": 40,
   "id": "quick-reason",
   "metadata": {
    "execution": {
     "iopub.execute_input": "2023-11-07T15:56:02.216707Z",
     "iopub.status.busy": "2023-11-07T15:56:02.216039Z",
     "iopub.status.idle": "2023-11-07T15:56:02.219244Z",
     "shell.execute_reply": "2023-11-07T15:56:02.218495Z",
     "shell.execute_reply.started": "2023-11-07T15:41:33.598126Z"
    },
    "papermill": {
     "duration": 1.417592,
     "end_time": "2023-11-07T15:56:02.219374",
     "exception": false,
     "start_time": "2023-11-07T15:56:00.801782",
     "status": "completed"
    },
    "tags": []
   },
   "outputs": [],
   "source": [
    "Y_test=[]\n",
    "for i in y_test:\n",
    "    if i[0]>i[1]:\n",
    "        Y_test.append(0)\n",
    "    else:\n",
    "        Y_test.append(1)"
   ]
  },
  {
   "cell_type": "code",
   "execution_count": 41,
   "id": "norman-clinic",
   "metadata": {
    "execution": {
     "iopub.execute_input": "2023-11-07T15:56:04.919691Z",
     "iopub.status.busy": "2023-11-07T15:56:04.918909Z",
     "iopub.status.idle": "2023-11-07T15:56:04.923107Z",
     "shell.execute_reply": "2023-11-07T15:56:04.922456Z",
     "shell.execute_reply.started": "2023-11-07T15:41:33.613240Z"
    },
    "papermill": {
     "duration": 1.345456,
     "end_time": "2023-11-07T15:56:04.923237",
     "exception": false,
     "start_time": "2023-11-07T15:56:03.577781",
     "status": "completed"
    },
    "tags": []
   },
   "outputs": [
    {
     "data": {
      "text/plain": [
       "1"
      ]
     },
     "execution_count": 41,
     "metadata": {},
     "output_type": "execute_result"
    }
   ],
   "source": [
    "Y_pred[0]"
   ]
  },
  {
   "cell_type": "code",
   "execution_count": 42,
   "id": "significant-keyboard",
   "metadata": {
    "execution": {
     "iopub.execute_input": "2023-11-07T15:56:07.654050Z",
     "iopub.status.busy": "2023-11-07T15:56:07.653242Z",
     "iopub.status.idle": "2023-11-07T15:56:07.657322Z",
     "shell.execute_reply": "2023-11-07T15:56:07.656778Z",
     "shell.execute_reply.started": "2023-11-07T15:41:33.624373Z"
    },
    "papermill": {
     "duration": 1.359747,
     "end_time": "2023-11-07T15:56:07.657473",
     "exception": false,
     "start_time": "2023-11-07T15:56:06.297726",
     "status": "completed"
    },
    "tags": []
   },
   "outputs": [
    {
     "data": {
      "text/plain": [
       "1"
      ]
     },
     "execution_count": 42,
     "metadata": {},
     "output_type": "execute_result"
    }
   ],
   "source": [
    "Y_test[0]"
   ]
  },
  {
   "cell_type": "code",
   "execution_count": 43,
   "id": "corrected-length",
   "metadata": {
    "execution": {
     "iopub.execute_input": "2023-11-07T15:56:10.375639Z",
     "iopub.status.busy": "2023-11-07T15:56:10.374848Z",
     "iopub.status.idle": "2023-11-07T15:56:10.404705Z",
     "shell.execute_reply": "2023-11-07T15:56:10.404020Z",
     "shell.execute_reply.started": "2023-11-07T15:41:33.634599Z"
    },
    "papermill": {
     "duration": 1.40983,
     "end_time": "2023-11-07T15:56:10.404876",
     "exception": false,
     "start_time": "2023-11-07T15:56:08.995046",
     "status": "completed"
    },
    "tags": []
   },
   "outputs": [
    {
     "name": "stdout",
     "output_type": "stream",
     "text": [
      "Confusion Matrix\n",
      "[[1741  378]\n",
      " [ 249 1805]]\n",
      "Classification Report\n",
      "              precision    recall  f1-score   support\n",
      "\n",
      "     Class-0       0.87      0.82      0.85      2119\n",
      "     Class-1       0.83      0.88      0.85      2054\n",
      "\n",
      "    accuracy                           0.85      4173\n",
      "   macro avg       0.85      0.85      0.85      4173\n",
      "weighted avg       0.85      0.85      0.85      4173\n",
      "\n"
     ]
    }
   ],
   "source": [
    "from sklearn.metrics import classification_report, confusion_matrix\n",
    "print('Confusion Matrix')\n",
    "print(confusion_matrix(Y_test, Y_pred))\n",
    "print('Classification Report')\n",
    "print(classification_report(Y_test, Y_pred, target_names=['Class-0','Class-1']))"
   ]
  },
  {
   "cell_type": "code",
   "execution_count": 44,
   "id": "considerable-straight",
   "metadata": {
    "execution": {
     "iopub.execute_input": "2023-11-07T15:56:13.170953Z",
     "iopub.status.busy": "2023-11-07T15:56:13.169168Z",
     "iopub.status.idle": "2023-11-07T15:56:13.184728Z",
     "shell.execute_reply": "2023-11-07T15:56:13.184089Z",
     "shell.execute_reply.started": "2023-11-07T15:41:33.673740Z"
    },
    "papermill": {
     "duration": 1.406691,
     "end_time": "2023-11-07T15:56:13.184858",
     "exception": false,
     "start_time": "2023-11-07T15:56:11.778167",
     "status": "completed"
    },
    "tags": []
   },
   "outputs": [],
   "source": [
    "classes=[0,1]\n",
    "con_mat_df = pd.DataFrame(confusion_matrix(Y_test, Y_pred),\n",
    "                     index = classes, \n",
    "                     columns = classes)"
   ]
  },
  {
   "cell_type": "code",
   "execution_count": 45,
   "id": "spiritual-valuable",
   "metadata": {
    "execution": {
     "iopub.execute_input": "2023-11-07T15:56:15.990840Z",
     "iopub.status.busy": "2023-11-07T15:56:15.990162Z",
     "iopub.status.idle": "2023-11-07T15:56:15.997506Z",
     "shell.execute_reply": "2023-11-07T15:56:15.996987Z",
     "shell.execute_reply.started": "2023-11-07T15:41:33.693017Z"
    },
    "papermill": {
     "duration": 1.406221,
     "end_time": "2023-11-07T15:56:15.997643",
     "exception": false,
     "start_time": "2023-11-07T15:56:14.591422",
     "status": "completed"
    },
    "tags": []
   },
   "outputs": [
    {
     "data": {
      "text/html": [
       "<div>\n",
       "<style scoped>\n",
       "    .dataframe tbody tr th:only-of-type {\n",
       "        vertical-align: middle;\n",
       "    }\n",
       "\n",
       "    .dataframe tbody tr th {\n",
       "        vertical-align: top;\n",
       "    }\n",
       "\n",
       "    .dataframe thead th {\n",
       "        text-align: right;\n",
       "    }\n",
       "</style>\n",
       "<table border=\"1\" class=\"dataframe\">\n",
       "  <thead>\n",
       "    <tr style=\"text-align: right;\">\n",
       "      <th></th>\n",
       "      <th>0</th>\n",
       "      <th>1</th>\n",
       "    </tr>\n",
       "  </thead>\n",
       "  <tbody>\n",
       "    <tr>\n",
       "      <th>0</th>\n",
       "      <td>1741</td>\n",
       "      <td>378</td>\n",
       "    </tr>\n",
       "    <tr>\n",
       "      <th>1</th>\n",
       "      <td>249</td>\n",
       "      <td>1805</td>\n",
       "    </tr>\n",
       "  </tbody>\n",
       "</table>\n",
       "</div>"
      ],
      "text/plain": [
       "      0     1\n",
       "0  1741   378\n",
       "1   249  1805"
      ]
     },
     "execution_count": 45,
     "metadata": {},
     "output_type": "execute_result"
    }
   ],
   "source": [
    "con_mat_df"
   ]
  },
  {
   "cell_type": "code",
   "execution_count": 46,
   "id": "unknown-promise",
   "metadata": {
    "execution": {
     "iopub.execute_input": "2023-11-07T15:56:18.724714Z",
     "iopub.status.busy": "2023-11-07T15:56:18.724023Z",
     "iopub.status.idle": "2023-11-07T15:56:18.835512Z",
     "shell.execute_reply": "2023-11-07T15:56:18.834974Z",
     "shell.execute_reply.started": "2023-11-07T15:41:33.710484Z"
    },
    "papermill": {
     "duration": 1.487733,
     "end_time": "2023-11-07T15:56:18.835639",
     "exception": false,
     "start_time": "2023-11-07T15:56:17.347906",
     "status": "completed"
    },
    "tags": []
   },
   "outputs": [],
   "source": [
    "import seaborn as sns"
   ]
  },
  {
   "cell_type": "code",
   "execution_count": 47,
   "id": "conscious-telling",
   "metadata": {
    "execution": {
     "iopub.execute_input": "2023-11-07T15:56:21.580071Z",
     "iopub.status.busy": "2023-11-07T15:56:21.578896Z",
     "iopub.status.idle": "2023-11-07T15:56:21.943980Z",
     "shell.execute_reply": "2023-11-07T15:56:21.943418Z",
     "shell.execute_reply.started": "2023-11-07T15:41:33.832285Z"
    },
    "papermill": {
     "duration": 1.738866,
     "end_time": "2023-11-07T15:56:21.944127",
     "exception": false,
     "start_time": "2023-11-07T15:56:20.205261",
     "status": "completed"
    },
    "tags": []
   },
   "outputs": [
    {
     "data": {
      "image/png": "[encoded data removed]",
      "text/plain": [
       "<Figure size 432x432 with 2 Axes>"
      ]
     },
     "metadata": {
      "needs_background": "light"
     },
     "output_type": "display_data"
    }
   ],
   "source": [
    "figure = plt.figure(figsize=(6, 6))\n",
    "sns.heatmap(con_mat_df, annot=True,cmap=plt.cm.cool,fmt='d')\n",
    "plt.tight_layout()\n",
    "plt.ylabel('Actual')\n",
    "plt.xlabel('Predicted')\n",
    "plt.show()"
   ]
  }
 ],
 "metadata": {
  "kernelspec": {
   "display_name": "Python 3",
   "language": "python",
   "name": "python3"
  },
  "language_info": {
   "codemirror_mode": {
    "name": "ipython",
    "version": 3
   },
   "file_extension": ".py",
   "mimetype": "text/x-python",
   "name": "python",
   "nbconvert_exporter": "python",
   "pygments_lexer": "ipython3",
   "version": "3.7.9"
  },
  "papermill": {
   "default_parameters": {},
   "duration": 450.981013,
   "end_time": "2023-11-07T15:56:25.305132",
   "environment_variables": {},
   "exception": null,
   "input_path": "__notebook__.ipynb",
   "output_path": "__notebook__.ipynb",
   "parameters": {},
   "start_time": "2023-11-07T15:48:54.324119",
   "version": "2.3.2"
  }
 },
 "nbformat": 4,
 "nbformat_minor": 5
}
